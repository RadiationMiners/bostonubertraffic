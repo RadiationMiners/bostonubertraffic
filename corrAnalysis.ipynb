{
 "cells": [
  {
   "cell_type": "code",
   "execution_count": 1,
   "metadata": {
    "collapsed": true
   },
   "outputs": [],
   "source": [
    "import pandas as pd"
   ]
  },
  {
   "cell_type": "code",
   "execution_count": 2,
   "metadata": {
    "collapsed": true
   },
   "outputs": [],
   "source": [
    "busDf = df = pd.read_csv('bus.csv')"
   ]
  },
  {
   "cell_type": "code",
   "execution_count": 3,
   "metadata": {},
   "outputs": [
    {
     "data": {
      "text/html": [
       "<div>\n",
       "<style>\n",
       "    .dataframe thead tr:only-child th {\n",
       "        text-align: right;\n",
       "    }\n",
       "\n",
       "    .dataframe thead th {\n",
       "        text-align: left;\n",
       "    }\n",
       "\n",
       "    .dataframe tbody tr th {\n",
       "        vertical-align: top;\n",
       "    }\n",
       "</style>\n",
       "<table border=\"1\" class=\"dataframe\">\n",
       "  <thead>\n",
       "    <tr style=\"text-align: right;\">\n",
       "      <th></th>\n",
       "      <th>Unnamed: 0</th>\n",
       "      <th>SERVICE_DATE</th>\n",
       "      <th>PEAK_OFFPEAK_IND</th>\n",
       "      <th>ROUTE_TYPE</th>\n",
       "      <th>OTP_NUMERATOR</th>\n",
       "      <th>OTP_DENOMINATOR</th>\n",
       "    </tr>\n",
       "  </thead>\n",
       "  <tbody>\n",
       "    <tr>\n",
       "      <th>0</th>\n",
       "      <td>1724</td>\n",
       "      <td>2016-03-09 00:00:00</td>\n",
       "      <td>Peak Service (Weekdays 6:30-9:30AM, 3:30PM-6:3...</td>\n",
       "      <td>OTH</td>\n",
       "      <td>10.0</td>\n",
       "      <td>16.0</td>\n",
       "    </tr>\n",
       "    <tr>\n",
       "      <th>1</th>\n",
       "      <td>1725</td>\n",
       "      <td>2016-03-09 00:00:00</td>\n",
       "      <td>Peak Service (Weekdays 6:30-9:30AM, 3:30PM-6:3...</td>\n",
       "      <td>OTH</td>\n",
       "      <td>222.0</td>\n",
       "      <td>332.0</td>\n",
       "    </tr>\n",
       "    <tr>\n",
       "      <th>2</th>\n",
       "      <td>1726</td>\n",
       "      <td>2016-03-09 00:00:00</td>\n",
       "      <td>Peak Service (Weekdays 6:30-9:30AM, 3:30PM-6:3...</td>\n",
       "      <td>OTH</td>\n",
       "      <td>31.0</td>\n",
       "      <td>68.0</td>\n",
       "    </tr>\n",
       "    <tr>\n",
       "      <th>3</th>\n",
       "      <td>1727</td>\n",
       "      <td>2016-03-09 00:00:00</td>\n",
       "      <td>Peak Service (Weekdays 6:30-9:30AM, 3:30PM-6:3...</td>\n",
       "      <td>OTH</td>\n",
       "      <td>24.0</td>\n",
       "      <td>44.0</td>\n",
       "    </tr>\n",
       "    <tr>\n",
       "      <th>4</th>\n",
       "      <td>1728</td>\n",
       "      <td>2016-03-09 00:00:00</td>\n",
       "      <td>Peak Service (Weekdays 6:30-9:30AM, 3:30PM-6:3...</td>\n",
       "      <td>OTH</td>\n",
       "      <td>70.0</td>\n",
       "      <td>119.0</td>\n",
       "    </tr>\n",
       "  </tbody>\n",
       "</table>\n",
       "</div>"
      ],
      "text/plain": [
       "   Unnamed: 0         SERVICE_DATE  \\\n",
       "0        1724  2016-03-09 00:00:00   \n",
       "1        1725  2016-03-09 00:00:00   \n",
       "2        1726  2016-03-09 00:00:00   \n",
       "3        1727  2016-03-09 00:00:00   \n",
       "4        1728  2016-03-09 00:00:00   \n",
       "\n",
       "                                    PEAK_OFFPEAK_IND ROUTE_TYPE  \\\n",
       "0  Peak Service (Weekdays 6:30-9:30AM, 3:30PM-6:3...        OTH   \n",
       "1  Peak Service (Weekdays 6:30-9:30AM, 3:30PM-6:3...        OTH   \n",
       "2  Peak Service (Weekdays 6:30-9:30AM, 3:30PM-6:3...        OTH   \n",
       "3  Peak Service (Weekdays 6:30-9:30AM, 3:30PM-6:3...        OTH   \n",
       "4  Peak Service (Weekdays 6:30-9:30AM, 3:30PM-6:3...        OTH   \n",
       "\n",
       "   OTP_NUMERATOR  OTP_DENOMINATOR  \n",
       "0           10.0             16.0  \n",
       "1          222.0            332.0  \n",
       "2           31.0             68.0  \n",
       "3           24.0             44.0  \n",
       "4           70.0            119.0  "
      ]
     },
     "execution_count": 3,
     "metadata": {},
     "output_type": "execute_result"
    }
   ],
   "source": [
    "busDf.head()"
   ]
  },
  {
   "cell_type": "code",
   "execution_count": 4,
   "metadata": {},
   "outputs": [
    {
     "data": {
      "text/plain": [
       "1213884"
      ]
     },
     "execution_count": 4,
     "metadata": {},
     "output_type": "execute_result"
    }
   ],
   "source": [
    "busDf.size"
   ]
  },
  {
   "cell_type": "markdown",
   "metadata": {},
   "source": [
    "## Definitions of Reliability\n",
    "\n",
    "\n",
    "\n",
    "### *Frequent Service (buses scheduled to come at least every 15 minutes)*\n",
    "\n",
    "#### Frequent Buses are considered reliable when they leave a stop within 3 minutes of the scheduled interval. \n",
    "\n",
    "### *Infrequent Service (buses scheduled more than 15 minutes apart)*\n",
    "\n",
    "#### Infrequent Buses are considered reliable when they leave a stop within 1 minute before and 6 minutes after the scheduled interval. \n",
    "\n"
   ]
  },
  {
   "cell_type": "code",
   "execution_count": null,
   "metadata": {
    "collapsed": true
   },
   "outputs": [],
   "source": []
  }
 ],
 "metadata": {
  "kernelspec": {
   "display_name": "Python 3",
   "language": "python",
   "name": "python3"
  },
  "language_info": {
   "codemirror_mode": {
    "name": "ipython",
    "version": 3
   },
   "file_extension": ".py",
   "mimetype": "text/x-python",
   "name": "python",
   "nbconvert_exporter": "python",
   "pygments_lexer": "ipython3",
   "version": "3.6.3"
  }
 },
 "nbformat": 4,
 "nbformat_minor": 2
}
