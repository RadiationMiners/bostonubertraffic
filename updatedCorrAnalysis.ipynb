{
 "cells": [
  {
   "cell_type": "markdown",
   "metadata": {},
   "source": [
    "A CSV file containing cleaned Uber data can be found here: \n",
    "\n",
    "https://drive.google.com/file/d/1pWGv84eaEZF495H7HVwDOFHnLj66-Nbh/view?usp=sharing"
   ]
  },
  {
   "cell_type": "code",
   "execution_count": 1,
   "metadata": {
    "collapsed": true
   },
   "outputs": [],
   "source": [
    "import pandas as pd"
   ]
  },
  {
   "cell_type": "markdown",
   "metadata": {},
   "source": [
    "**Load the local csv files into dataframes.**\n",
    "\n",
    "**\"bus.csv\" and \"times.csv\" should be in the GitHub repo, but uber.csv is not. Find that here: https://drive.google.com/file/d/1QaT4NrrkulKCc1OKrVxXukOJdUp8XiC8/view?usp=sharing**"
   ]
  },
  {
   "cell_type": "code",
   "execution_count": 232,
   "metadata": {},
   "outputs": [
    {
     "name": "stderr",
     "output_type": "stream",
     "text": [
      "/Users/lucaslyon/anaconda3/lib/python3.6/site-packages/numpy/lib/arraysetops.py:463: FutureWarning: elementwise comparison failed; returning scalar instead, but in the future will perform elementwise comparison\n",
      "  mask |= (ar1 == a)\n"
     ]
    }
   ],
   "source": [
    "uber = pd.read_csv('uber.csv', index_col = 0)\n",
    "busDf = pd.read_csv('bus.csv', index_col = 0)\n",
    "timesDf = pd.read_csv(\"times.csv\", names=[\"start\", \"stop\", \"time\"])"
   ]
  },
  {
   "cell_type": "markdown",
   "metadata": {},
   "source": [
    "**Create a list of unique routes from the busDf**"
   ]
  },
  {
   "cell_type": "code",
   "execution_count": 78,
   "metadata": {},
   "outputs": [],
   "source": [
    "lines = busDf.ROUTE_OR_LINE.unique()\n",
    "lines.tolist()"
   ]
  },
  {
   "cell_type": "markdown",
   "metadata": {},
   "source": [
    "**Sort the Uber dataframe by source and then destination**"
   ]
  },
  {
   "cell_type": "code",
   "execution_count": 233,
   "metadata": {
    "collapsed": true
   },
   "outputs": [],
   "source": [
    "uber = uber.sort_values(['sourceid', 'dstid'])"
   ]
  },
  {
   "cell_type": "markdown",
   "metadata": {},
   "source": [
    "**Function to find the days where every line was slower than 80% of the average.**\n",
    "\n",
    "If we just look at days where the lines were slower than 100% of the average, we get way too many days to look at. We need to be more strict with out analysis.**"
   ]
  },
  {
   "cell_type": "code",
   "execution_count": 275,
   "metadata": {},
   "outputs": [],
   "source": [
    "def lateDays(lines, busDf):\n",
    "    \n",
    "    linesSlowerThanAvg = {}\n",
    "    \n",
    "    for line in lines:\n",
    "        #get the piece of the dataframe that has data for each line\n",
    "        thisLine = busDf.loc[busDf['ROUTE_OR_LINE'] == line]\n",
    "        \n",
    "        averageOnTime = ((thisLine['PERCENT_ONTIME']).mean())*0.3\n",
    "        \n",
    "        slowerThanAverage = thisLine.loc[(thisLine['PERCENT_ONTIME'] < averageOnTime)]\n",
    "        \n",
    "        datesSlowerThanAverage = slowerThanAverage['SERVICE_DATE']\n",
    "        \n",
    "        percentOnTime = slowerThanAverage['PERCENT_ONTIME']\n",
    "        \n",
    "        listDates = datesSlowerThanAverage.tolist()\n",
    "        \n",
    "        listPercents = percentOnTime.tolist()\n",
    "        \n",
    "        concatenated = [] \n",
    "        \n",
    "        for ii in range(len(listDates)):\n",
    "            concatenated.append((listDates[ii], listPercents[ii]))\n",
    "        \n",
    "        linesSlowerThanAvg[line] = concatenated\n",
    "        \n",
    "    return linesSlowerThanAvg"
   ]
  },
  {
   "cell_type": "markdown",
   "metadata": {},
   "source": [
    "Get a dictionary of days that each line was pretty late, including what percent of buses were on-time."
   ]
  },
  {
   "cell_type": "code",
   "execution_count": 276,
   "metadata": {},
   "outputs": [],
   "source": [
    "daysSlowerThanAvg = lateDays(lines, busDf)"
   ]
  },
  {
   "cell_type": "code",
   "execution_count": 277,
   "metadata": {},
   "outputs": [
    {
     "data": {
      "text/html": [
       "<div>\n",
       "<style>\n",
       "    .dataframe thead tr:only-child th {\n",
       "        text-align: right;\n",
       "    }\n",
       "\n",
       "    .dataframe thead th {\n",
       "        text-align: left;\n",
       "    }\n",
       "\n",
       "    .dataframe tbody tr th {\n",
       "        vertical-align: top;\n",
       "    }\n",
       "</style>\n",
       "<table border=\"1\" class=\"dataframe\">\n",
       "  <thead>\n",
       "    <tr style=\"text-align: right;\">\n",
       "      <th></th>\n",
       "      <th>sourceid</th>\n",
       "      <th>dstid</th>\n",
       "      <th>hod</th>\n",
       "      <th>geometric_mean_travel_time</th>\n",
       "      <th>geometric_standard_deviation_travel_time</th>\n",
       "    </tr>\n",
       "  </thead>\n",
       "  <tbody>\n",
       "  </tbody>\n",
       "</table>\n",
       "</div>"
      ],
      "text/plain": [
       "Empty DataFrame\n",
       "Columns: [sourceid, dstid, hod, geometric_mean_travel_time, geometric_standard_deviation_travel_time]\n",
       "Index: []"
      ]
     },
     "execution_count": 277,
     "metadata": {},
     "output_type": "execute_result"
    }
   ],
   "source": [
    "uber.loc[(uber['sourceid'] >= 2000)]"
   ]
  },
  {
   "cell_type": "code",
   "execution_count": 278,
   "metadata": {
    "scrolled": true
   },
   "outputs": [
    {
     "name": "stdout",
     "output_type": "stream",
     "text": [
      "100 7\n",
      "171 107\n",
      "225 0\n",
      "201 22\n",
      "230 0\n",
      "60 0\n",
      "62 0\n",
      "65 0\n",
      "78 0\n",
      "104 4\n",
      "215 0\n",
      "26 6\n",
      "411 4\n",
      "442 1\n",
      "449 25\n",
      "88 0\n",
      "SL5 0\n",
      "4 40\n",
      "132 0\n",
      "170 63\n",
      "424 9\n",
      "426 0\n",
      "434 30\n",
      "7 0\n",
      "106 0\n",
      "35 0\n",
      "43 3\n",
      "44 0\n",
      "51 0\n",
      "57A 2\n",
      "76 0\n",
      "CT3 6\n",
      "SL1 0\n",
      "111 0\n",
      "114 64\n",
      "9 0\n",
      "116 0\n",
      "222 0\n",
      "236 2\n",
      "326 9\n",
      "39 0\n",
      "435 1\n",
      "119 3\n",
      "21 0\n",
      "216 0\n",
      "428 154\n",
      "451 6\n",
      "456 0\n",
      "459 1\n",
      "503 31\n",
      "80 0\n",
      "87 1\n",
      "SL2 0\n",
      "8 1\n",
      "137 13\n",
      "14 1\n",
      "220 0\n",
      "24 1\n",
      "351 12\n",
      "554 1\n",
      "91 8\n",
      "99 2\n",
      "501 0\n",
      "221 110\n",
      "431 3\n",
      "448 190\n",
      "553 1\n",
      "69 0\n",
      "92 0\n",
      "455 2\n",
      "68 1\n",
      "746 0\n",
      "75 0\n",
      "5 72\n",
      "11 0\n",
      "112 9\n",
      "16 0\n",
      "22 0\n",
      "34 0\n",
      "430 7\n",
      "502 0\n",
      "89 0\n",
      "90 8\n",
      "109 2\n",
      "192 112\n",
      "194 37\n",
      "214 0\n",
      "240 1\n",
      "245 0\n",
      "441 1\n",
      "55 0\n",
      "77 0\n",
      "117 0\n",
      "131 10\n",
      "17 3\n",
      "211 0\n",
      "350 1\n",
      "36 0\n",
      "436 1\n",
      "10 0\n",
      "105 12\n",
      "108 5\n",
      "23 0\n",
      "29 1\n",
      "31 0\n",
      "32 0\n",
      "352 1\n",
      "45 0\n",
      "47 0\n",
      "93 0\n",
      "210 71\n",
      "465 0\n",
      "505 0\n",
      "71 0\n",
      "79 0\n",
      "59 0\n",
      "72 0\n",
      "136 10\n",
      "504 1\n",
      "558 31\n",
      "70 0\n",
      "86 0\n",
      "202 21\n",
      "439 1\n",
      "50 1\n",
      "57 0\n",
      "84 77\n",
      "19 3\n",
      "30 0\n",
      "85 0\n",
      "CT1 4\n",
      "101 0\n",
      "217 18\n",
      "33 5\n",
      "450 0\n",
      "212 15\n",
      "354 1\n",
      "70A 0\n",
      "73 0\n",
      "94 0\n",
      "95 0\n",
      "74 1\n",
      "429 0\n",
      "110 0\n",
      "40 1\n",
      "556 6\n",
      "97 16\n",
      "CT2 4\n",
      "1 0\n",
      "27 17\n",
      "37 0\n",
      "64 0\n",
      "18 7\n",
      "67 0\n",
      "SL4 0\n",
      "9703 84\n",
      "120 12\n",
      "134 0\n",
      "15 0\n",
      "34E 0\n",
      "608 0\n",
      "83 1\n",
      "193 32\n",
      "38 3\n",
      "191 46\n",
      "325 44\n",
      "41 0\n",
      "42 0\n",
      "96 0\n",
      "28 0\n",
      "66 0\n",
      "238 0\n",
      "9701 55\n",
      "121 2\n",
      "9702 48\n",
      "52 6\n",
      "195 198\n",
      "72/75 1\n",
      "62/76 1\n",
      "713 0\n"
     ]
    }
   ],
   "source": [
    "#checking how many values each key has\n",
    "for key, value in daysSlowerThanAvg.items():\n",
    "    #print value\n",
    "    print(key, len([item for item in value if item]))"
   ]
  },
  {
   "cell_type": "code",
   "execution_count": 279,
   "metadata": {},
   "outputs": [
    {
     "data": {
      "text/plain": [
       "[('3/26/16 0:00', 0.18446601941747573)]"
      ]
     },
     "execution_count": 279,
     "metadata": {},
     "output_type": "execute_result"
    }
   ],
   "source": [
    "daysSlowerThanAvg['72/75']"
   ]
  },
  {
   "cell_type": "markdown",
   "metadata": {},
   "source": [
    "**Function to determine average travel times to and from each census tract in the Uber dataset.**\n",
    "\n",
    "Output of this function has been saved in \"times.csv\" and the timesDf."
   ]
  },
  {
   "cell_type": "code",
   "execution_count": 28,
   "metadata": {
    "collapsed": true
   },
   "outputs": [],
   "source": [
    "def averageTravelTimes(sources, dests, dataset):\n",
    "    fromtotimes = {}\n",
    "    counter = 0\n",
    "    for source in sources:\n",
    "        sliced = dataset.loc[(dataset['sourceid'] == source)]\n",
    "        for dest in dests:\n",
    "            furthersliced = sliced.loc[(sliced['dstid'] == dest)]\n",
    "            if len(furthersliced.index != 0):\n",
    "                mean = furthersliced['geometric_mean_travel_time'].mean()\n",
    "                fromtotimes[(source, dest)] = mean\n",
    "                counter+=1\n",
    "                if (counter % 5000) == 0:\n",
    "                    print(source, dest, mean)\n",
    "    return fromtotimes"
   ]
  },
  {
   "cell_type": "code",
   "execution_count": 236,
   "metadata": {},
   "outputs": [],
   "source": [
    "#times = averageTravelTimes(sources, dests, uber)"
   ]
  },
  {
   "cell_type": "code",
   "execution_count": 103,
   "metadata": {
    "collapsed": true
   },
   "outputs": [],
   "source": [
    "#timesSeries.index.name = 'To From Pair'"
   ]
  },
  {
   "cell_type": "code",
   "execution_count": 104,
   "metadata": {
    "collapsed": true
   },
   "outputs": [],
   "source": [
    "#timesSeries.reset_index()\n",
    "#timesSeries.to_csv('times.csv')"
   ]
  },
  {
   "cell_type": "code",
   "execution_count": 240,
   "metadata": {},
   "outputs": [],
   "source": [
    "#timesDf.head()"
   ]
  },
  {
   "cell_type": "markdown",
   "metadata": {},
   "source": [
    "**To compare Uber and MBTA bus lines, we need to know what census tracts each line goes through. Here's the process:**\n",
    "\n",
    "1. Find a map with census tracts. I use https://worldmap.harvard.edu/maps/3948. Uncheck everything on the left, and then under \"Boundaries\" check \"Boston's Census Tracts\".\n",
    "\n",
    "2. Use the MBTA's website to get a map of the line route. https://www.mbta.com/schedules/bus\n",
    "\n",
    "3. Click on areas of the Harvard Map that the line you're working on goes through. Write down the census tracts in a list. The Harvard website shows the tract under \"Feature Details\" and then \"TRACT\". \n",
    "\n",
    "4. Repeat for each line. There's 180 of them, so maybe start with the most popular lines first: https://en.wikipedia.org/wiki/MBTA_key_bus_routes"
   ]
  },
  {
   "cell_type": "code",
   "execution_count": null,
   "metadata": {
    "collapsed": true
   },
   "outputs": [],
   "source": [
    "zones_100 = [\"837\", \"588\", \"838\", \"836\", \"203\", \"587\"]\n",
    "zones_7 = [\"885\", \"883\", \"530\", \"425\", \"501\"]\n",
    "zones_1 = [\"806\", \"804\", \"711\", \"709\", \"708\", \"105\", \"107\", \"108\", \"3531\", ]"
   ]
  }
 ],
 "metadata": {
  "kernelspec": {
   "display_name": "Python 3",
   "language": "python",
   "name": "python3"
  },
  "language_info": {
   "codemirror_mode": {
    "name": "ipython",
    "version": 3
   },
   "file_extension": ".py",
   "mimetype": "text/x-python",
   "name": "python",
   "nbconvert_exporter": "python",
   "pygments_lexer": "ipython3",
   "version": "3.6.3"
  }
 },
 "nbformat": 4,
 "nbformat_minor": 2
}
