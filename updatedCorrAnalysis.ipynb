{
 "cells": [
  {
   "cell_type": "markdown",
   "metadata": {},
   "source": [
    "# Analysis of Metro Boston Transit Authority routes and Uber trips 2016-2018"
   ]
  },
  {
   "cell_type": "markdown",
   "metadata": {},
   "source": [
    "### A CSV file containing cleaned Uber data can be found here: \n",
    "\n",
    "https://drive.google.com/file/d/1pWGv84eaEZF495H7HVwDOFHnLj66-Nbh/view?usp=sharing\n",
    "\n",
    "You must download the dataset to continue."
   ]
  },
  {
   "cell_type": "code",
   "execution_count": 2,
   "metadata": {
    "collapsed": true
   },
   "outputs": [],
   "source": [
    "import pandas as pd"
   ]
  },
  {
   "cell_type": "markdown",
   "metadata": {},
   "source": [
    "#### 1. Load the local csv files into dataframes.\n"
   ]
  },
  {
   "cell_type": "code",
   "execution_count": 3,
   "metadata": {},
   "outputs": [
    {
     "name": "stderr",
     "output_type": "stream",
     "text": [
      "/Users/lucaslyon/anaconda3/lib/python3.6/site-packages/numpy/lib/arraysetops.py:463: FutureWarning: elementwise comparison failed; returning scalar instead, but in the future will perform elementwise comparison\n",
      "  mask |= (ar1 == a)\n"
     ]
    }
   ],
   "source": [
    "#Uber Data\n",
    "uber = pd.read_csv('uber.csv', index_col = 0)\n",
    "\n",
    "#MBTA Bus data\n",
    "busDf = pd.read_csv('bus.csv', index_col = 0)\n",
    "\n",
    "#Average travel times from Uber dataset, calculated with averageTravelTimes() function at bottom of notebook\n",
    "timesDf = pd.read_csv(\"times.csv\", names=[\"start\", \"stop\", \"time\"])"
   ]
  },
  {
   "cell_type": "markdown",
   "metadata": {},
   "source": [
    "** 2. Create a list of unique routes from the busDf**"
   ]
  },
  {
   "cell_type": "code",
   "execution_count": 6,
   "metadata": {},
   "outputs": [],
   "source": [
    "lines = busDf.ROUTE_OR_LINE.unique()\n",
    "lines = lines.tolist()"
   ]
  },
  {
   "cell_type": "markdown",
   "metadata": {},
   "source": [
    "**3. Sort the Uber dataframe by source and then destination**"
   ]
  },
  {
   "cell_type": "code",
   "execution_count": 7,
   "metadata": {
    "collapsed": true
   },
   "outputs": [],
   "source": [
    "uber = uber.sort_values(['sourceid', 'dstid'])"
   ]
  },
  {
   "cell_type": "markdown",
   "metadata": {},
   "source": [
    "### Below, we find the five days where each line was most delayed.\n",
    "\n",
    "If we just look at days where the lines were slower than average, we get way too many days to look at. We need to be more strict with out analysis. We slowly decrease our on-time threshold from the average down by a factor of 0.999. "
   ]
  },
  {
   "cell_type": "code",
   "execution_count": 15,
   "metadata": {
    "collapsed": true
   },
   "outputs": [],
   "source": [
    "def lateDays(lines, busDf):\n",
    "    \n",
    "    linesSlowerThanAvg = {} #dictionary of lines as keys, and days as values\n",
    "    count = 0\n",
    "    for line in lines:\n",
    "        \n",
    "        #get the piece of the dataframe that has data for this line\n",
    "        thisLine = busDf.loc[busDf['ROUTE_OR_LINE'] == line]\n",
    "        \n",
    "        #find the average percent on time for this line\n",
    "        averageOnTime = ((thisLine['PERCENT_ONTIME']).mean())\n",
    "        \n",
    "        #we want just a handful of delays that are significant relative to each line\n",
    "        #looking at the averages, we get between 1-100 delays\n",
    "        #let's make it a max of 25 for each line\n",
    "        \n",
    "        slowerThanAverage = thisLine.loc[(thisLine['PERCENT_ONTIME'] < averageOnTime)]\n",
    "        \n",
    "        #while we have more than 25 days of delays\n",
    "        while (len(slowerThanAverage) > 25): \n",
    "            \n",
    "            #increase our threshold for on-time percent\n",
    "            averageOnTime *= 0.999 \n",
    "            \n",
    "            #pull days with on-time percents less than our new threshold\n",
    "            slowerThanAverage = thisLine.loc[(thisLine['PERCENT_ONTIME'] < averageOnTime)]\n",
    "            \n",
    "            #check that we don't have an average of 0\n",
    "            if (slowerThanAverage['PERCENT_ONTIME'].mean() == 0):\n",
    "                break\n",
    "        \n",
    "        #pull dates from the list of delayed days\n",
    "        datesSlowerThanAverage = slowerThanAverage['SERVICE_DATE']\n",
    "        \n",
    "        #pull percent on time from list of delayed days\n",
    "        percentOnTime = slowerThanAverage['PERCENT_ONTIME']\n",
    "        \n",
    "        #get a list of the days\n",
    "        listDates = datesSlowerThanAverage.tolist()\n",
    "        \n",
    "        #get a list of the percents on time\n",
    "        listPercents = percentOnTime.tolist()\n",
    "        \n",
    "        concatenated = []\n",
    "        \n",
    "        #for each delayed day\n",
    "        for ii in range(len(listDates)):\n",
    "            #add the line, date, and percent on time\n",
    "            concatenated.append((line, listDates[ii], listPercents[ii]))\n",
    "        \n",
    "        #enter line, data, and percent on-time into the dictionary\n",
    "        linesSlowerThanAvg[line] = concatenated\n",
    "        \n",
    "    return linesSlowerThanAvg"
   ]
  },
  {
   "cell_type": "markdown",
   "metadata": {},
   "source": [
    "#### 4. Get a dictionary of days that each line was pretty late, including what percent of buses were on-time."
   ]
  },
  {
   "cell_type": "code",
   "execution_count": 11,
   "metadata": {},
   "outputs": [],
   "source": [
    "daysSlowerThanAvg = lateDays(lines, busDf)"
   ]
  },
  {
   "cell_type": "markdown",
   "metadata": {},
   "source": [
    "### Below, we find average travel times to and from each census tract in the Uber Boston dataset. \n",
    "\n",
    "#### The function _averageTravelTimes_ returns a dictionary of sources, destinations, and average travel times for each zone pair in the city. \n",
    "\n",
    "Output of this function has been saved in \"times.csv\" and the timesDf. The function is provided for reference. "
   ]
  },
  {
   "cell_type": "code",
   "execution_count": 17,
   "metadata": {
    "collapsed": true
   },
   "outputs": [],
   "source": [
    "def averageTravelTimes(sources, dests, dataset):\n",
    "    \n",
    "    #dictionary of sources, destinations, and mean travel times\n",
    "    fromtotimes = {}\n",
    "    \n",
    "    #counter for intermittent output (to ensure the code is working because it takes a long time to run)\n",
    "    counter = 0\n",
    "    \n",
    "    for source in sources:\n",
    "        \n",
    "        #get the slice of the dataset from source\n",
    "        sliced = dataset.loc[(dataset['sourceid'] == source)]\n",
    "        \n",
    "        for dest in dests:\n",
    "            #further slice into source->dest data\n",
    "            furthersliced = sliced.loc[(sliced['dstid'] == dest)]\n",
    "            \n",
    "            #calculate the mean travel time from source to dest\n",
    "            if len(furthersliced.index != 0):\n",
    "                mean = furthersliced['geometric_mean_travel_time'].mean()\n",
    "                fromtotimes[(source, dest)] = mean\n",
    "                counter+=1\n",
    "                \n",
    "                #intermittent output to ensure the function is working\n",
    "                if (counter % 5000) == 0:\n",
    "                    print(source, dest, mean)\n",
    "                    \n",
    "    return fromtotimes"
   ]
  },
  {
   "cell_type": "code",
   "execution_count": 18,
   "metadata": {
    "collapsed": true
   },
   "outputs": [],
   "source": [
    "#The code below is used to build the average travel times csv\n",
    "#times = averageTravelTimes(sources, dests, uber)\n",
    "#times.to_csv('times.csv')"
   ]
  },
  {
   "cell_type": "markdown",
   "metadata": {},
   "source": [
    "**To compare Uber and MBTA bus lines, we need to know what census tracts each line goes through. Here's the process:**\n",
    "\n",
    "1. Find a map with census tracts. I use https://worldmap.harvard.edu/maps/3948. Uncheck everything on the left, and then under \"Boundaries\" check \"Boston's Census Tracts\".\n",
    "\n",
    "2. Use the MBTA's website to get a map of the line route. https://www.mbta.com/schedules/bus\n",
    "\n",
    "3. Click on areas of the Harvard Map that the line you're working on goes through. Write down the census tracts in a list. The Harvard website shows the tract under \"Feature Details\" and then \"TRACT\". \n",
    "\n",
    "4. Repeat for each line. There's 180 of them, so maybe start with the most popular lines first: https://en.wikipedia.org/wiki/MBTA_key_bus_routes"
   ]
  }
 ],
 "metadata": {
  "kernelspec": {
   "display_name": "Python 3",
   "language": "python",
   "name": "python3"
  },
  "language_info": {
   "codemirror_mode": {
    "name": "ipython",
    "version": 3
   },
   "file_extension": ".py",
   "mimetype": "text/x-python",
   "name": "python",
   "nbconvert_exporter": "python",
   "pygments_lexer": "ipython3",
   "version": "3.6.3"
  }
 },
 "nbformat": 4,
 "nbformat_minor": 2
}
