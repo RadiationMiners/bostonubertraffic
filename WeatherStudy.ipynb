{
 "cells": [
  {
   "cell_type": "markdown",
   "metadata": {},
   "source": [
    "## To What Extent Does Weather Impact Percent On Time of Buses?\n",
    "   This notebook is intended to be used to take MTBA bus data and weather data collected by a NOAA station in boston to determine if weather has a measurable impact on the percent of buses that are on time. The MTBA data set includes for its bus entries if it's reccord is from peak hours or off peak as well as number of busses on time that day for that route and number of total busses that ran on that route that day. The weather data includes a number of attributes not as useful, but does include inches of snow, rain, as well as Average Temperature, Max Temperature, and Min Temperature. Both datasets entries have dates, which can and will be joined on to get the data sets together. After which the data will be reorganized for use by a machine learning algorithm or two. The goal is to find an algorithm that will produce a model with good performance, and then look at the weights of different weather to come to a conclusion on how impactful weather is for percent on time.  "
   ]
  },
  {
   "cell_type": "code",
   "execution_count": 1,
   "metadata": {},
   "outputs": [],
   "source": [
    "import pandas as pd\n",
    "import numpy as np"
   ]
  },
  {
   "cell_type": "markdown",
   "metadata": {},
   "source": [
    "#### These first few cells are for combining the weather and bus data\n",
    "I ended up joining the two sets on date and then reducing the columns. The bus data had two columns that could be useful for this which were route number and peak or off peak. I initially removed route number but might try to bring it back in. The peak or off peak attribute I figured would be interesting but discovered it was making all of the models perform very poorly. "
   ]
  },
  {
   "cell_type": "code",
   "execution_count": 10,
   "metadata": {},
   "outputs": [
    {
     "data": {
      "text/html": [
       "<div>\n",
       "<style scoped>\n",
       "    .dataframe tbody tr th:only-of-type {\n",
       "        vertical-align: middle;\n",
       "    }\n",
       "\n",
       "    .dataframe tbody tr th {\n",
       "        vertical-align: top;\n",
       "    }\n",
       "\n",
       "    .dataframe thead th {\n",
       "        text-align: right;\n",
       "    }\n",
       "</style>\n",
       "<table border=\"1\" class=\"dataframe\">\n",
       "  <thead>\n",
       "    <tr style=\"text-align: right;\">\n",
       "      <th></th>\n",
       "      <th>SERVICE_DATE</th>\n",
       "      <th>peak/offpeak</th>\n",
       "      <th>ROUTE_OR_LINE</th>\n",
       "      <th>PERCENT_ONTIME</th>\n",
       "    </tr>\n",
       "  </thead>\n",
       "  <tbody>\n",
       "    <tr>\n",
       "      <th>198185</th>\n",
       "      <td>3/4/2018</td>\n",
       "      <td>0</td>\n",
       "      <td>45</td>\n",
       "      <td>48</td>\n",
       "    </tr>\n",
       "    <tr>\n",
       "      <th>198186</th>\n",
       "      <td>3/4/2018</td>\n",
       "      <td>0</td>\n",
       "      <td>99</td>\n",
       "      <td>58</td>\n",
       "    </tr>\n",
       "    <tr>\n",
       "      <th>198187</th>\n",
       "      <td>3/4/2018</td>\n",
       "      <td>0</td>\n",
       "      <td>109</td>\n",
       "      <td>51</td>\n",
       "    </tr>\n",
       "    <tr>\n",
       "      <th>198188</th>\n",
       "      <td>3/4/2018</td>\n",
       "      <td>0</td>\n",
       "      <td>70</td>\n",
       "      <td>64</td>\n",
       "    </tr>\n",
       "    <tr>\n",
       "      <th>198189</th>\n",
       "      <td>3/4/2018</td>\n",
       "      <td>0</td>\n",
       "      <td>95</td>\n",
       "      <td>67</td>\n",
       "    </tr>\n",
       "  </tbody>\n",
       "</table>\n",
       "</div>"
      ],
      "text/plain": [
       "       SERVICE_DATE  peak/offpeak ROUTE_OR_LINE  PERCENT_ONTIME\n",
       "198185     3/4/2018             0            45              48\n",
       "198186     3/4/2018             0            99              58\n",
       "198187     3/4/2018             0           109              51\n",
       "198188     3/4/2018             0            70              64\n",
       "198189     3/4/2018             0            95              67"
      ]
     },
     "execution_count": 10,
     "metadata": {},
     "output_type": "execute_result"
    }
   ],
   "source": [
    "bus = pd.read_csv(\"bus_forLearning.csv\")\n",
    "weath = pd.read_csv(\"weather_trimmed.csv\")\n",
    "bus.tail()\n"
   ]
  },
  {
   "cell_type": "markdown",
   "metadata": {},
   "source": [
    "#### Above reads in the two datasets, already prepared to be joined, below joins data sets and outputs for further trimming and re-ordering"
   ]
  },
  {
   "cell_type": "code",
   "execution_count": 11,
   "metadata": {},
   "outputs": [
    {
     "data": {
      "text/html": [
       "<div>\n",
       "<style scoped>\n",
       "    .dataframe tbody tr th:only-of-type {\n",
       "        vertical-align: middle;\n",
       "    }\n",
       "\n",
       "    .dataframe tbody tr th {\n",
       "        vertical-align: top;\n",
       "    }\n",
       "\n",
       "    .dataframe thead th {\n",
       "        text-align: right;\n",
       "    }\n",
       "</style>\n",
       "<table border=\"1\" class=\"dataframe\">\n",
       "  <thead>\n",
       "    <tr style=\"text-align: right;\">\n",
       "      <th></th>\n",
       "      <th>SERVICE_DATE</th>\n",
       "      <th>peak/offpeak</th>\n",
       "      <th>ROUTE_OR_LINE</th>\n",
       "      <th>PERCENT_ONTIME</th>\n",
       "      <th>PRCP</th>\n",
       "      <th>SNOW</th>\n",
       "      <th>TAVG</th>\n",
       "      <th>TMAX</th>\n",
       "      <th>TMIN</th>\n",
       "    </tr>\n",
       "  </thead>\n",
       "  <tbody>\n",
       "    <tr>\n",
       "      <th>198185</th>\n",
       "      <td>3/4/2018</td>\n",
       "      <td>0</td>\n",
       "      <td>45</td>\n",
       "      <td>48</td>\n",
       "      <td>0.0</td>\n",
       "      <td>0.0</td>\n",
       "      <td>39.0</td>\n",
       "      <td>41.0</td>\n",
       "      <td>36.0</td>\n",
       "    </tr>\n",
       "    <tr>\n",
       "      <th>198186</th>\n",
       "      <td>3/4/2018</td>\n",
       "      <td>0</td>\n",
       "      <td>99</td>\n",
       "      <td>58</td>\n",
       "      <td>0.0</td>\n",
       "      <td>0.0</td>\n",
       "      <td>39.0</td>\n",
       "      <td>41.0</td>\n",
       "      <td>36.0</td>\n",
       "    </tr>\n",
       "    <tr>\n",
       "      <th>198187</th>\n",
       "      <td>3/4/2018</td>\n",
       "      <td>0</td>\n",
       "      <td>109</td>\n",
       "      <td>51</td>\n",
       "      <td>0.0</td>\n",
       "      <td>0.0</td>\n",
       "      <td>39.0</td>\n",
       "      <td>41.0</td>\n",
       "      <td>36.0</td>\n",
       "    </tr>\n",
       "    <tr>\n",
       "      <th>198188</th>\n",
       "      <td>3/4/2018</td>\n",
       "      <td>0</td>\n",
       "      <td>70</td>\n",
       "      <td>64</td>\n",
       "      <td>0.0</td>\n",
       "      <td>0.0</td>\n",
       "      <td>39.0</td>\n",
       "      <td>41.0</td>\n",
       "      <td>36.0</td>\n",
       "    </tr>\n",
       "    <tr>\n",
       "      <th>198189</th>\n",
       "      <td>3/4/2018</td>\n",
       "      <td>0</td>\n",
       "      <td>95</td>\n",
       "      <td>67</td>\n",
       "      <td>0.0</td>\n",
       "      <td>0.0</td>\n",
       "      <td>39.0</td>\n",
       "      <td>41.0</td>\n",
       "      <td>36.0</td>\n",
       "    </tr>\n",
       "  </tbody>\n",
       "</table>\n",
       "</div>"
      ],
      "text/plain": [
       "       SERVICE_DATE  peak/offpeak ROUTE_OR_LINE  PERCENT_ONTIME  PRCP  SNOW  \\\n",
       "198185     3/4/2018             0            45              48   0.0   0.0   \n",
       "198186     3/4/2018             0            99              58   0.0   0.0   \n",
       "198187     3/4/2018             0           109              51   0.0   0.0   \n",
       "198188     3/4/2018             0            70              64   0.0   0.0   \n",
       "198189     3/4/2018             0            95              67   0.0   0.0   \n",
       "\n",
       "        TAVG  TMAX  TMIN  \n",
       "198185  39.0  41.0  36.0  \n",
       "198186  39.0  41.0  36.0  \n",
       "198187  39.0  41.0  36.0  \n",
       "198188  39.0  41.0  36.0  \n",
       "198189  39.0  41.0  36.0  "
      ]
     },
     "execution_count": 11,
     "metadata": {},
     "output_type": "execute_result"
    }
   ],
   "source": [
    "bw = bus.join(weath.set_index('DATE'), on ='SERVICE_DATE') #join datasets on dates\n",
    "#bw = bw.drop( columns = ['SERVICE_DATE','PEAK_OFFPEAK_IND']) # date no longer needed, may confuse algorithms\n",
    "bw.tail()\n",
    "#bw.to_csv(\"busWithWeather1.csv\")"
   ]
  },
  {
   "cell_type": "code",
   "execution_count": null,
   "metadata": {},
   "outputs": [],
   "source": []
  },
  {
   "cell_type": "markdown",
   "metadata": {},
   "source": [
    "#### Read in resulting data that's prepared for learning. Split data into training and test partitions after random re-ordering of entries"
   ]
  },
  {
   "cell_type": "code",
   "execution_count": 57,
   "metadata": {},
   "outputs": [],
   "source": [
    "learn = pd.read_csv(\"bw_cleaned.csv\", header = None)\n",
    "#learn.info()\n",
    "\n",
    "learn = learn.sample(frac = 1)\n",
    "train_x = learn.iloc[0:120001,0:5]\n",
    "train_y = learn.iloc[0:120001, 6]\n",
    "\n",
    "test_x = learn.iloc[120002:,0:5]\n",
    "test_y = learn.iloc[120002:, 6]\n",
    "\n"
   ]
  },
  {
   "cell_type": "markdown",
   "metadata": {},
   "source": [
    "### The above data includes the \"peak or off peak hours\" attribute, the bottom does not."
   ]
  },
  {
   "cell_type": "code",
   "execution_count": 3,
   "metadata": {},
   "outputs": [],
   "source": [
    "learn2 = pd.read_csv(\"bw_nopeak.csv\",header = None)\n",
    "\n",
    "learn2 = learn2.sample(frac = 1 )\n",
    "train_x = learn2.iloc[0:180001,0:4]\n",
    "train_y = learn2.iloc[0:180001,5]\n",
    "\n",
    "test_x = learn2.iloc[180002:,0:4]\n",
    "test_y = learn2.iloc[180002:,5]\n",
    "\n",
    "#print(train_y)\n"
   ]
  },
  {
   "cell_type": "code",
   "execution_count": 5,
   "metadata": {},
   "outputs": [],
   "source": [
    "from sklearn.neural_network import MLPRegressor as mlp\n",
    "from sklearn.linear_model import TheilSenRegressor as TSR, SGDRegressor as SGD, LogisticRegression as LR\n",
    "from sklearn.svm import LinearSVR as LSVR, SVR\n",
    "from sklearn.ensemble import RandomForestRegressor as RFR\n",
    "from sklearn.metrics import mean_absolute_error as mae, r2_score as r2, explained_variance_score as evs"
   ]
  },
  {
   "cell_type": "code",
   "execution_count": 11,
   "metadata": {},
   "outputs": [
    {
     "name": "stdout",
     "output_type": "stream",
     "text": [
      "training :: mae: 12.678117, r2: 0.041851, evs: 0.041853\n",
      "testing :: mae: 12.738307, r2: 0.041537, evs: 0.041556\n"
     ]
    }
   ],
   "source": [
    "rfr = RFR()\n",
    "rfr.fit(train_x,train_y)\n",
    "training_mae = mae(train_y, rfr.predict(train_x)) #best is 0\n",
    "training_r2 = r2(train_y, rfr.predict(train_x)) #best 1, can be neg(opposite of helpful good)\n",
    "training_evs = evs(train_y, rfr.predict(train_x)) #best is 1 , lower worse\n",
    "print(\"training :: mae: %0.6f, r2: %0.6f, evs: %0.6f\" % (training_mae,training_r2,training_evs))\n",
    "#print(\"best i %d\" % best_i)\n",
    "\n",
    "test_mae = mae(test_y, rfr.predict(test_x))\n",
    "test_r2 = r2(test_y, rfr.predict(test_x))\n",
    "test_evs = evs(test_y, rfr.predict(test_x))\n",
    "print(\"testing :: mae: %0.6f, r2: %0.6f, evs: %0.6f\" % (test_mae,test_r2,test_evs))"
   ]
  },
  {
   "cell_type": "code",
   "execution_count": 12,
   "metadata": {},
   "outputs": [
    {
     "name": "stdout",
     "output_type": "stream",
     "text": [
      "training :: mae: 12.684855, r2: 0.040723, evs: 0.040723\n",
      "best i 6\n",
      "testing :: mae: 12.752932, r2: 0.039421, evs: 0.039453\n"
     ]
    }
   ],
   "source": [
    "## FOR RANDOM FOREST REGRESSOR -> REALLY JUST DESCISION TREE\n",
    "best_mae = 20\n",
    "best_r2 = 0\n",
    "best_evs = 0\n",
    "best_i = 0\n",
    "best_rfr = RFR()\n",
    "for i in range(1,20):\n",
    "    rfr = RFR(n_estimators = 10, max_depth = 12, min_samples_leaf = i)\n",
    "    rfr.fit(train_x,train_y)\n",
    "    training_mae = mae(train_y, rfr.predict(train_x)) #best is 0\n",
    "    training_r2 = r2(train_y, rfr.predict(train_x)) #best 1, can be neg(opposite of helpful good)\n",
    "    training_evs = evs(train_y, rfr.predict(train_x)) #best is 1 , lower worse\n",
    "    if((best_mae>training_mae)&(best_r2<training_r2)&(best_evs<training_evs)):\n",
    "        best_mae = training_mae\n",
    "        best_r2 = training_r2\n",
    "        best_evs = training_evs\n",
    "        best_i = i\n",
    "        best_rfr = rfr\n",
    "print(\"training :: mae: %0.6f, r2: %0.6f, evs: %0.6f\" % (best_mae,best_r2,best_evs))\n",
    "print(\"best i %d\" % best_i)\n",
    "\n",
    "test_mae = mae(test_y, best_rfr.predict(test_x))\n",
    "test_r2 = r2(test_y, best_rfr.predict(test_x))\n",
    "test_evs = evs(test_y, best_rfr.predict(test_x))\n",
    "print(\"testing :: mae: %0.6f, r2: %0.6f, evs: %0.6f\" % (test_mae,test_r2,test_evs))"
   ]
  },
  {
   "cell_type": "code",
   "execution_count": 51,
   "metadata": {},
   "outputs": [
    {
     "name": "stdout",
     "output_type": "stream",
     "text": [
      "feature weights [0.24552306 0.14108116 0.02043798 0.34368151 0.24927629]\n",
      "n_feat  5\n",
      "n_outputs  1\n"
     ]
    }
   ],
   "source": [
    "print(\"feature weights\", best_rfr.feature_importances_)\n",
    "print(\"n_feat \", best_rfr.n_features_)\n",
    "print(\"n_outputs \", best_rfr.n_outputs_)\n",
    "#print(\"oob_score \", best_rfr.oob_score_)\n",
    "#best_rfr.decision_path(train_x)"
   ]
  },
  {
   "cell_type": "code",
   "execution_count": null,
   "metadata": {},
   "outputs": [],
   "source": [
    "## for k cross fold validation of rfr\n",
    "from sklearn.model_selection import RepeatedKFold\n",
    "x = learn.iloc[0:,0:4]\n",
    "y = learn.iloc[0:,5]\n",
    "\n"
   ]
  },
  {
   "cell_type": "code",
   "execution_count": null,
   "metadata": {},
   "outputs": [],
   "source": []
  },
  {
   "cell_type": "code",
   "execution_count": 9,
   "metadata": {},
   "outputs": [
    {
     "name": "stdout",
     "output_type": "stream",
     "text": [
      "training :: mae: 13.815569, r2: -0.061698, evs: 0.007538\n",
      "testing :: mae: 13.924743, r2: -0.071045, evs: 0.006825\n"
     ]
    }
   ],
   "source": [
    "## FOR MULITLAYER PERCEPTRON NEURAL NETWORK\n",
    "mlpr = mlp()\n",
    "mlpr.fit(train_x,train_y)\n",
    "training_mae = mae(train_y, mlpr.predict(train_x)) #best is 0\n",
    "training_r2 = r2(train_y, mlpr.predict(train_x)) #best 1, can be neg(opposite of helpful good)\n",
    "training_evs = evs(train_y, mlpr.predict(train_x)) #best is 1 , lower worse\n",
    "print(\"training :: mae: %0.6f, r2: %0.6f, evs: %0.6f\" % (training_mae,training_r2,training_evs))\n",
    "\n",
    "#after having removed peak/off peak flag from data set training performance has gone up\n",
    "test_mae = mae(test_y, mlpr.predict(test_x))\n",
    "test_r2 = r2(test_y, mlpr.predict(test_x))\n",
    "test_evs = evs(test_y, mlpr.predict(test_x))\n",
    "print(\"testing :: mae: %0.6f, r2: %0.6f, evs: %0.6f\" % (test_mae,test_r2,test_evs))\n"
   ]
  },
  {
   "cell_type": "code",
   "execution_count": 13,
   "metadata": {},
   "outputs": [
    {
     "name": "stdout",
     "output_type": "stream",
     "text": [
      "mae: 12.856826, r2: 0.001557, evs: 0.006583\n",
      "testing :: mae: 12.903749, r2: 0.001594, evs: 0.007458\n"
     ]
    }
   ],
   "source": [
    "## FOR THEILSENREGRESSOR \n",
    "tsr = TSR()\n",
    "tsr.fit(train_x,train_y)\n",
    "training_mae = mae(train_y, tsr.predict(train_x)) #best is 0\n",
    "training_r2 = r2(train_y, tsr.predict(train_x)) #best 1, can be neg(opposite of helpful good)\n",
    "training_evs = evs(train_y, tsr.predict(train_x)) #best is 1 , lower worse\n",
    "print(\"mae: %0.6f, r2: %0.6f, evs: %0.6f\" % (training_mae,training_r2,training_evs))\n",
    "\n",
    "## Have a positive r2 value for this regressor, so it might be worth tuning\n",
    "\n",
    "test_mae = mae(test_y, tsr.predict(test_x))\n",
    "test_r2 = r2(test_y, tsr.predict(test_x))\n",
    "test_evs = evs(test_y, tsr.predict(test_x))\n",
    "print(\"testing :: mae: %0.6f, r2: %0.6f, evs: %0.6f\" % (test_mae,test_r2,test_evs))"
   ]
  },
  {
   "cell_type": "code",
   "execution_count": 59,
   "metadata": {},
   "outputs": [
    {
     "name": "stdout",
     "output_type": "stream",
     "text": [
      "mae: 3.070260, r2: 0.934703, evs: 0.956831\n",
      "testing :: mae: 3.067188, r2: 0.935070, evs: 0.957273\n"
     ]
    }
   ],
   "source": [
    "## FOR STOCHASTIC GRADIENT DESCENT\n",
    "sgd = SGD(max_iter = 1000)\n",
    "sgd.fit(train_x,train_y)\n",
    "training_mae = mae(train_y, sgd.predict(train_x)) #best is 0\n",
    "training_r2 = r2(train_y, sgd.predict(train_x)) #best 1, can be neg(opposite of helpful good)\n",
    "training_evs = evs(train_y, sgd.predict(train_x)) #best is 1 , lower worse\n",
    "print(\"mae: %0.6f, r2: %0.6f, evs: %0.6f\" % (training_mae,training_r2,training_evs))\n",
    "\n",
    "#did much worse than mlp. probably not useful\n",
    "test_mae = mae(test_y, sgd.predict(test_x))\n",
    "test_r2 = r2(test_y, sgd.predict(test_x))\n",
    "test_evs = evs(test_y, sgd.predict(test_x))\n",
    "print(\"testing :: mae: %0.6f, r2: %0.6f, evs: %0.6f\" % (test_mae,test_r2,test_evs))"
   ]
  },
  {
   "cell_type": "code",
   "execution_count": 66,
   "metadata": {},
   "outputs": [
    {
     "name": "stdout",
     "output_type": "stream",
     "text": [
      "mae: 5.100791, r2: 0.826813, evs: 0.829544\n",
      "testing :: mae: 5.101414, r2: 0.826410, evs: 0.829181\n"
     ]
    }
   ],
   "source": [
    "## FOR LOGISTIC REGRESSION\n",
    "\n",
    "lr = LR()\n",
    "lr.fit(train_x,train_y)\n",
    "training_mae = mae(train_y, lr.predict(train_x)) #best is 0\n",
    "training_r2 = r2(train_y, lr.predict(train_x)) #best 1, can be neg(opposite of helpful good)\n",
    "training_evs = evs(train_y, lr.predict(train_x)) #best is 1 , lower worse\n",
    "print(\"mae: %0.6f, r2: %0.6f, evs: %0.6f\" % (training_mae,training_r2,training_evs))\n",
    "\n",
    "test_mae = mae(test_y, lr.predict(test_x))\n",
    "test_r2 = r2(test_y, lr.predict(test_x))\n",
    "test_evs = evs(test_y, lr.predict(test_x))\n",
    "print(\"testing :: mae: %0.6f, r2: %0.6f, evs: %0.6f\" % (test_mae,test_r2,test_evs))"
   ]
  },
  {
   "cell_type": "code",
   "execution_count": 65,
   "metadata": {},
   "outputs": [
    {
     "name": "stderr",
     "output_type": "stream",
     "text": [
      "C:\\Users\\Theo\\Anaconda3\\lib\\site-packages\\sklearn\\svm\\base.py:218: ConvergenceWarning: Solver terminated early (max_iter=1000).  Consider pre-processing your data with StandardScaler or MinMaxScaler.\n",
      "  % self.max_iter, ConvergenceWarning)\n"
     ]
    },
    {
     "name": "stdout",
     "output_type": "stream",
     "text": [
      "mae: 14.797663, r2: -0.175069, evs: 0.019918\n",
      "testing :: mae: 14.771081, r2: -0.177553, evs: 0.020015\n"
     ]
    }
   ],
   "source": [
    "## FOR SVM\n",
    "svm = SVR(kernel = 'rbf',max_iter = 1000)\n",
    "svm.fit(train_x,train_y)\n",
    "training_mae = mae(train_y, svm.predict(train_x)) #best is 0\n",
    "training_r2 = r2(train_y, svm.predict(train_x)) #best 1, can be neg(opposite of helpful good)\n",
    "training_evs = evs(train_y, svm.predict(train_x)) #best is 1 , lower worse\n",
    "print(\"mae: %0.6f, r2: %0.6f, evs: %0.6f\" % (training_mae,training_r2,training_evs))\n",
    "\n",
    "test_mae = mae(test_y, svm.predict(test_x)) ####this one has under performed with the new data, not going to be useful\n",
    "test_r2 = r2(test_y, svm.predict(test_x))\n",
    "test_evs = evs(test_y, svm.predict(test_x))\n",
    "print(\"testing :: mae: %0.6f, r2: %0.6f, evs: %0.6f\" % (test_mae,test_r2,test_evs))"
   ]
  },
  {
   "cell_type": "code",
   "execution_count": null,
   "metadata": {},
   "outputs": [],
   "source": [
    "## others -> beta regression, nearest neighbors?"
   ]
  }
 ],
 "metadata": {
  "kernelspec": {
   "display_name": "Python 3",
   "language": "python",
   "name": "python3"
  },
  "language_info": {
   "codemirror_mode": {
    "name": "ipython",
    "version": 3
   },
   "file_extension": ".py",
   "mimetype": "text/x-python",
   "name": "python",
   "nbconvert_exporter": "python",
   "pygments_lexer": "ipython3",
   "version": "3.6.4"
  }
 },
 "nbformat": 4,
 "nbformat_minor": 2
}
